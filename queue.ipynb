{
 "cells": [
  {
   "cell_type": "markdown",
   "metadata": {},
   "source": [
    "Implementing queue data structure"
   ]
  },
  {
   "cell_type": "code",
   "execution_count": 2,
   "metadata": {},
   "outputs": [
    {
     "name": "stdout",
     "output_type": "stream",
     "text": [
      "[12]\n",
      "[12, 123]\n",
      "[12, 123, 54]\n",
      "[12, 123, 54, 66]\n",
      "[12, 123, 54, 66, 97]\n",
      "[12, 123, 54, 66, 97, 82]\n",
      "[123, 54, 66, 97, 82]\n",
      "5\n"
     ]
    }
   ],
   "source": [
    "class Queue:\n",
    "    def __init__(self):\n",
    "        self.l=[]\n",
    "    def enqueue(self,x):\n",
    "        self.l.append(x)\n",
    "        print(self.l)\n",
    "    def dequeue(self):\n",
    "        self.l.pop(0)\n",
    "        print(self.l)\n",
    "    def size(self):\n",
    "        return(len(self.l))\n",
    "q=Queue()\n",
    "q.enqueue(12)\n",
    "q.enqueue(123)\n",
    "q.enqueue(54)\n",
    "q.enqueue(66)\n",
    "q.enqueue(97)\n",
    "q.enqueue(82)\n",
    "q.dequeue()\n",
    "print(q.size())"
   ]
  },
  {
   "cell_type": "code",
   "execution_count": null,
   "metadata": {},
   "outputs": [],
   "source": []
  }
 ],
 "metadata": {
  "kernelspec": {
   "display_name": "Python 3",
   "language": "python",
   "name": "python3"
  },
  "language_info": {
   "codemirror_mode": {
    "name": "ipython",
    "version": 3
   },
   "file_extension": ".py",
   "mimetype": "text/x-python",
   "name": "python",
   "nbconvert_exporter": "python",
   "pygments_lexer": "ipython3",
   "version": "3.7.3"
  }
 },
 "nbformat": 4,
 "nbformat_minor": 4
}
