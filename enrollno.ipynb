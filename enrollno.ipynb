{
  "nbformat": 4,
  "nbformat_minor": 0,
  "metadata": {
    "kernelspec": {
      "display_name": "Python 3",
      "language": "python",
      "name": "python3"
    },
    "language_info": {
      "codemirror_mode": {
        "name": "ipython",
        "version": 3
      },
      "file_extension": ".py",
      "mimetype": "text/x-python",
      "name": "python",
      "nbconvert_exporter": "python",
      "pygments_lexer": "ipython3",
      "version": "3.7.3"
    },
    "colab": {
      "name": "enrollno.ipynb",
      "provenance": []
    }
  },
  "cells": [
    {
      "cell_type": "markdown",
      "metadata": {
        "id": "LUdr4_Ljavv0",
        "colab_type": "text"
      },
      "source": [
        "Program to match the enroll no of CS students"
      ]
    },
    {
      "cell_type": "code",
      "metadata": {
        "id": "fZItlnlHavv1",
        "colab_type": "code",
        "colab": {},
        "outputId": "b52cb524-d865-4b84-a0ba-359611004eb3"
      },
      "source": [
        "import re\n",
        "str = \"0827lc171098\"\n",
        "x=re.search('^0827+[cs]|[^[^it]]|[^[^me]]+\\171[00-240]$',str)\n",
        "if (x):\n",
        "  print(\"yes\")\n",
        "else:\n",
        "  print(\"no match\")"
      ],
      "execution_count": 0,
      "outputs": [
        {
          "output_type": "stream",
          "text": [
            "no match\n"
          ],
          "name": "stdout"
        }
      ]
    },
    {
      "cell_type": "markdown",
      "metadata": {
        "id": "cmIp8djdavv5",
        "colab_type": "text"
      },
      "source": [
        "This program matches and prints the branch starting with 'c' . which is a problem to be addressed."
      ]
    }
  ]
}