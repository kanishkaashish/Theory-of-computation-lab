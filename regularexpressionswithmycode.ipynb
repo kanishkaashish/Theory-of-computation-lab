{
  "nbformat": 4,
  "nbformat_minor": 0,
  "metadata": {
    "kernelspec": {
      "display_name": "Python 3",
      "language": "python",
      "name": "python3"
    },
    "language_info": {
      "codemirror_mode": {
        "name": "ipython",
        "version": 3
      },
      "file_extension": ".py",
      "mimetype": "text/x-python",
      "name": "python",
      "nbconvert_exporter": "python",
      "pygments_lexer": "ipython3",
      "version": "3.7.3"
    },
    "colab": {
      "name": "regularexpressionswithmycode.ipynb",
      "provenance": []
    }
  },
  "cells": [
    {
      "cell_type": "markdown",
      "metadata": {
        "id": "LUdr4_Ljavv0",
        "colab_type": "text"
      },
      "source": [
        "Program to match the enroll no of CS students"
      ]
    },
    {
      "cell_type": "code",
      "metadata": {
        "id": "fZItlnlHavv1",
        "colab_type": "code",
        "colab": {
          "base_uri": "https://localhost:8080/",
          "height": 34
        },
        "outputId": "c3db003c-aa8c-442c-d5b8-168251950130"
      },
      "source": [
        "import re\n",
        "str = \"0827lc171098\"\n",
        "x=re.search('^0827+[cs]|[^[^it]]|[^[^me]]+\\171[00-240]$',str)\n",
        "if (x):\n",
        "  print(\"yes\")\n",
        "else:\n",
        "  print(\"no match\")"
      ],
      "execution_count": 1,
      "outputs": [
        {
          "output_type": "stream",
          "text": [
            "no match\n"
          ],
          "name": "stdout"
        }
      ]
    },
    {
      "cell_type": "code",
      "metadata": {
        "id": "OnpOamd8cqj2",
        "colab_type": "code",
        "colab": {
          "base_uri": "https://localhost:8080/",
          "height": 34
        },
        "outputId": "eabdccb0-3047-4b00-dffc-684bb7f8bee5"
      },
      "source": [
        "import re\n",
        "str=\"001100\"\n",
        "x=re.search(\"[0-1]*00$\",str)\n",
        "if(x):\n",
        "    print(\"String valid\")\n",
        "else:\n",
        "    print(\"String invalid\")\n",
        "   "
      ],
      "execution_count": 2,
      "outputs": [
        {
          "output_type": "stream",
          "text": [
            "String valid\n"
          ],
          "name": "stdout"
        }
      ]
    },
    {
      "cell_type": "code",
      "metadata": {
        "id": "0dl5qCwddCP1",
        "colab_type": "code",
        "colab": {
          "base_uri": "https://localhost:8080/",
          "height": 34
        },
        "outputId": "6af46f71-4d75-4769-ea7a-035694bc6868"
      },
      "source": [
        "import re\n",
        "str=\"babb\"\n",
        "x=re.search(\"[a-b]*a[a-b][a-b]\",str)\n",
        "if(x):\n",
        "    print(\"String valid\")\n",
        "else:\n",
        "    print(\"String invalid\")"
      ],
      "execution_count": 3,
      "outputs": [
        {
          "output_type": "stream",
          "text": [
            "String valid\n"
          ],
          "name": "stdout"
        }
      ]
    },
    {
      "cell_type": "code",
      "metadata": {
        "id": "cuBp8FLFdLFT",
        "colab_type": "code",
        "colab": {
          "base_uri": "https://localhost:8080/",
          "height": 34
        },
        "outputId": "ff7f8fb3-2ddb-43a4-c50a-aea5b1c522b7"
      },
      "source": [
        "import re\n",
        "str=\"babb\"\n",
        "x=re.search(\"[a-b]*a[a-b]*\",str)\n",
        "if(x):\n",
        "    print(\"String valid\")\n",
        "else:\n",
        "    print(\"String invalid\")"
      ],
      "execution_count": 4,
      "outputs": [
        {
          "output_type": "stream",
          "text": [
            "String valid\n"
          ],
          "name": "stdout"
        }
      ]
    },
    {
      "cell_type": "code",
      "metadata": {
        "id": "fwXb2F5qdPUa",
        "colab_type": "code",
        "colab": {
          "base_uri": "https://localhost:8080/",
          "height": 34
        },
        "outputId": "4e1eef49-d33e-442c-dda4-2ff72f07fa0b"
      },
      "source": [
        "import re\n",
        "str=\"babaaba\"\n",
        "x=re.search(\"[a-b]*aba[a-b]*\",str)\n",
        "if(x):\n",
        "    print(\" valid \")\n",
        "else:\n",
        "    print(\" invalid \")"
      ],
      "execution_count": 5,
      "outputs": [
        {
          "output_type": "stream",
          "text": [
            " valid \n"
          ],
          "name": "stdout"
        }
      ]
    },
    {
      "cell_type": "code",
      "metadata": {
        "id": "oi0PNzbndTJl",
        "colab_type": "code",
        "colab": {
          "base_uri": "https://localhost:8080/",
          "height": 34
        },
        "outputId": "955c60c0-589c-4d9a-f1aa-817b0094722e"
      },
      "source": [
        "import re\n",
        "str=\"ababaaa\"\n",
        "x=re.search(\"a*ba*ba*\",str)\n",
        "if(x):\n",
        "    print(\"String valid\")\n",
        "else:\n",
        "    print(\"String invalid\")"
      ],
      "execution_count": 6,
      "outputs": [
        {
          "output_type": "stream",
          "text": [
            "String valid\n"
          ],
          "name": "stdout"
        }
      ]
    },
    {
      "cell_type": "code",
      "metadata": {
        "id": "16x5LrCZd0HQ",
        "colab_type": "code",
        "colab": {
          "base_uri": "https://localhost:8080/",
          "height": 34
        },
        "outputId": "d48c3cbd-314b-4379-cb01-0d7818514a7b"
      },
      "source": [
        "import re\n",
        "str=\"000\"\n",
        "x=re.search(\"^1[0-1]*0$|^0[0-1]*1$\",str)\n",
        "if(x):\n",
        "    print(\"Valid String\")\n",
        "else:\n",
        "    print(\"Invalid String\")"
      ],
      "execution_count": 7,
      "outputs": [
        {
          "output_type": "stream",
          "text": [
            "Invalid String\n"
          ],
          "name": "stdout"
        }
      ]
    },
    {
      "cell_type": "code",
      "metadata": {
        "id": "u1LO4lNSd3Kb",
        "colab_type": "code",
        "colab": {
          "base_uri": "https://localhost:8080/",
          "height": 34
        },
        "outputId": "1543b2b5-09d5-44b1-b330-2bfe9af72a1c"
      },
      "source": [
        "import re\n",
        "str=\"abab\"\n",
        "x=len(re.findall(\"a\",str))%2\n",
        "y=len(re.findall(\"b\",str))%2\n",
        "if(x==0 and y==0):\n",
        "    print(\"Even\")\n",
        "else:\n",
        "    print(\"Odd\")"
      ],
      "execution_count": 8,
      "outputs": [
        {
          "output_type": "stream",
          "text": [
            "Even\n"
          ],
          "name": "stdout"
        }
      ]
    },
    {
      "cell_type": "code",
      "metadata": {
        "id": "Bf2_5lL6d-OA",
        "colab_type": "code",
        "colab": {
          "base_uri": "https://localhost:8080/",
          "height": 34
        },
        "outputId": "f74ae7c1-39e5-44fc-c60a-b6a1f0f5d3b8"
      },
      "source": [
        "import re\n",
        "str='abbbbbaa'\n",
        "x=re.search(\"^ab[a-b]*\",str)\n",
        "if(x):\n",
        "    print(\"Valid\")\n",
        "else:\n",
        "    print(\"Invalid\")"
      ],
      "execution_count": 9,
      "outputs": [
        {
          "output_type": "stream",
          "text": [
            "Valid\n"
          ],
          "name": "stdout"
        }
      ]
    },
    {
      "cell_type": "markdown",
      "metadata": {
        "id": "cmIp8djdavv5",
        "colab_type": "text"
      },
      "source": [
        "This program matches and prints the branch starting with 'c' . which is a problem to be addressed."
      ]
    }
  ]
}